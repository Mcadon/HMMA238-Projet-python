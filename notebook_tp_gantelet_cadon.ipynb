{
 "cells": [
  {
   "cell_type": "markdown",
   "metadata": {},
   "source": [
    "# Ceci est notre notebook pour les question du tp"
   ]
  },
  {
   "cell_type": "code",
   "execution_count": 1,
   "metadata": {},
   "outputs": [],
   "source": [
    "run ./utils.py"
   ]
  },
  {
   "cell_type": "code",
   "execution_count": 2,
   "metadata": {},
   "outputs": [],
   "source": [
    "Z = [[0,0,0,0,0,0],\n",
    "[0,0,0,1,0,0],\n",
    "[0,1,0,1,0,0],\n",
    "[0,0,1,1,0,0],\n",
    "[0,0,0,0,0,0],\n",
    "[0,0,0,0,0,0]]\n",
    "\n"
   ]
  },
  {
   "cell_type": "code",
   "execution_count": 3,
   "metadata": {
    "scrolled": true
   },
   "outputs": [
    {
     "data": {
      "text/plain": [
       "[[0, 0, 0, 0, 0, 0],\n",
       " [0, 1, 3, 1, 2, 0],\n",
       " [0, 1, 5, 3, 3, 0],\n",
       " [0, 2, 3, 2, 2, 0],\n",
       " [0, 1, 2, 2, 1, 0],\n",
       " [0, 0, 0, 0, 0, 0]]"
      ]
     },
     "execution_count": 3,
     "metadata": {},
     "output_type": "execute_result"
    }
   ],
   "source": [
    "calcul_nb_voisins(Z)"
   ]
  },
  {
   "cell_type": "markdown",
   "metadata": {},
   "source": [
    "La fonction \"calcul_nb_voisins\" permet de prendre en argument un état du jeu de la vie. \n",
    "Cette fonction calcule ensuite, pour chaque cellule vivante, le nombre de cellules vivantes qui sont dans son entourage (les 8 cases autour d'elle). \n",
    "Elle renvoie donc une liste de liste contenant, non plus des 0 ou des 1 pour dire que la cellule est morte ou vivante, mais le nombre de cellules qui sont présentes autour d'elle."
   ]
  },
  {
   "cell_type": "code",
   "execution_count": 4,
   "metadata": {},
   "outputs": [
    {
     "name": "stdout",
     "output_type": "stream",
     "text": [
      "Help on function iteration_jeu in module __main__:\n",
      "\n",
      "iteration_jeu(Z)\n",
      "    Fonction qui prend en argument l'état initial du jeu de la vie (sous forme de liste de liste).\n",
      "    Fonction qui retourne l'état du jeu après 1 itération.\n",
      "    \n",
      "    La fonction fait appel à la fonction qui calcule le nombre de voisins puis modifie\n",
      "    les cellules, qui sont représentées par des 0 ou des 1 dans la matrice Z,\n",
      "    en appliquant la règle de décision expliquée ci dessus.\n",
      "\n"
     ]
    }
   ],
   "source": [
    "help(iteration_jeu)"
   ]
  },
  {
   "cell_type": "code",
   "execution_count": 5,
   "metadata": {},
   "outputs": [],
   "source": [
    "import numpy as np\n",
    "import matplotlib.pyplot as plt"
   ]
  },
  {
   "cell_type": "code",
   "execution_count": 7,
   "metadata": {},
   "outputs": [
    {
     "data": {
      "image/png": "[encoded data removed]",
      "text/plain": [
       "<Figure size 720x360 with 10 Axes>"
      ]
     },
     "metadata": {
      "needs_background": "light"
     },
     "output_type": "display_data"
    }
   ],
   "source": [
    "plt.figure(figsize=(10,5))\n",
    "for i in range(10):\n",
    "    plt.subplot(2,5,i+1)\n",
    "    plt.imshow(np.array(Z))\n",
    "    Z = iteration_jeu(Z)"
   ]
  },
  {
   "cell_type": "markdown",
   "metadata": {},
   "source": [
    "Entre l'itération 0 et 4 on observe que les cellules évoluent et que l'on a un nouvel état à chaque itération.\n",
    "Lors de l'étape 4 on se retrouve dans le même état que l'étape 0 mais en étant décalé de 1 vers le bas droite. \n",
    "\n",
    "A partir de l'itération 7, le jeu est stable et ne bougera donc plus."
   ]
  }
 ],
 "metadata": {
  "kernelspec": {
   "display_name": "Python 3",
   "language": "python",
   "name": "python3"
  },
  "language_info": {
   "codemirror_mode": {
    "name": "ipython",
    "version": 3
   },
   "file_extension": ".py",
   "mimetype": "text/x-python",
   "name": "python",
   "nbconvert_exporter": "python",
   "pygments_lexer": "ipython3",
   "version": "3.7.3"
  }
 },
 "nbformat": 4,
 "nbformat_minor": 2
}
