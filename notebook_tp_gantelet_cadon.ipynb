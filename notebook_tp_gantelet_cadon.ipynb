{
 "cells": [
  {
   "cell_type": "markdown",
   "metadata": {},
   "source": [
    "# Développement logiciel\n",
    "#     Travaux Patriques Python  \n",
    "###                                                               Mathilde Cadon & Arielle Gantelet\n"
   ]
  },
  {
   "cell_type": "markdown",
   "metadata": {},
   "source": [
    "Avant toutes choses, nous devons importer le fichier $utils.py$ qui contient toutes nos fonctions ainsi que les bibliothèques utiles à leurs appels."
   ]
  },
  {
   "cell_type": "code",
   "execution_count": 113,
   "metadata": {},
   "outputs": [],
   "source": [
    "run ./utils.py"
   ]
  },
  {
   "cell_type": "markdown",
   "metadata": {},
   "source": [
    "## Implémentation sans numpy\n",
    "\n",
    "\n",
    "### Question 4 :\n",
    "Appliquons la fonction calcul_nb_voisins à la liste (de liste) Z, et expliquons ce que l'on obtient à la sortie.\n",
    "Rappelons que cette fonction, et toutes les fonctions définies dans la\n",
    "suite seront placées dans un fichier $utils.py$."
   ]
  },
  {
   "cell_type": "code",
   "execution_count": 114,
   "metadata": {},
   "outputs": [
    {
     "data": {
      "text/plain": [
       "[[0, 0, 0, 0, 0, 0],\n",
       " [0, 0, 0, 1, 0, 0],\n",
       " [0, 1, 0, 1, 0, 0],\n",
       " [0, 0, 1, 1, 0, 0],\n",
       " [0, 0, 0, 0, 0, 0],\n",
       " [0, 0, 0, 0, 0, 0]]"
      ]
     },
     "execution_count": 114,
     "metadata": {},
     "output_type": "execute_result"
    }
   ],
   "source": [
    "Z = [[0,0,0,0,0,0],\n",
    "[0,0,0,1,0,0],\n",
    "[0,1,0,1,0,0],\n",
    "[0,0,1,1,0,0],\n",
    "[0,0,0,0,0,0],\n",
    "[0,0,0,0,0,0]]\n",
    "\n",
    "Z"
   ]
  },
  {
   "cell_type": "markdown",
   "metadata": {},
   "source": [
    "Cette matrice représente une \"carte\" de cellule qui comporte des cellules mortes (codées par un 0) sur ses frontières,\n",
    "puis des cellules vivantes (codées par un 1) ou morte à l'intérieur."
   ]
  },
  {
   "cell_type": "code",
   "execution_count": 115,
   "metadata": {
    "scrolled": true
   },
   "outputs": [
    {
     "data": {
      "text/plain": [
       "[[0, 0, 0, 0, 0, 0],\n",
       " [0, 1, 3, 1, 2, 0],\n",
       " [0, 1, 5, 3, 3, 0],\n",
       " [0, 2, 3, 2, 2, 0],\n",
       " [0, 1, 2, 2, 1, 0],\n",
       " [0, 0, 0, 0, 0, 0]]"
      ]
     },
     "execution_count": 115,
     "metadata": {},
     "output_type": "execute_result"
    }
   ],
   "source": [
    "calcul_nb_voisins(Z)"
   ]
  },
  {
   "cell_type": "markdown",
   "metadata": {},
   "source": [
    "La fonction \"calcul_nb_voisins\" permet de prendre en argument un état du jeu de la vie. \n",
    "Cette fonction calcule ensuite, pour chaque cellule n'étant pas aux frontières, le nombre de cellules vivantes qui sont dans son entourage (les 8 cases autour d'elle). \n",
    "Elle renvoie donc une liste de liste contenant, non plus des 0 ou des 1 pour dire que la cellule est morte ou vivante, mais le nombre de cellules qui sont présentes autour d'elle. Cette \"carte\" conservera donc sa frontière de 0 car les calculs se font sur les cellules n'étant pas sur la frontière.\n",
    "\n",
    "\n",
    "Passons maintenant à la fonction \"itération_jeu\"."
   ]
  },
  {
   "cell_type": "code",
   "execution_count": 116,
   "metadata": {},
   "outputs": [
    {
     "name": "stdout",
     "output_type": "stream",
     "text": [
      "Help on function iteration_jeu in module __main__:\n",
      "\n",
      "iteration_jeu(Z)\n",
      "    Fonction qui prend en argument l'état initial du jeu de la vie (sous forme de liste de liste).\n",
      "    Fonction qui retourne l'état du jeu après 1 itération.\n",
      "    \n",
      "    La fonction fait appel à la fonction qui calcule le nombre de voisins puis modifie\n",
      "    les cellules, qui sont représentées par des 0 ou des 1 dans la matrice Z,\n",
      "    en appliquant la règle de décision expliquée dans l'énoncée.\n",
      "    \n",
      "    - Si la cellule est vivante et qu'elle a moins de 2 voisins ou plus de 3 voisins, alors elle meurt.\n",
      "    - Si la cellule est morte et qu'elle à 3 voisins alors elle vit.\n",
      "    Dans tous les autres cas, la cellule reste dans le même état.\n",
      "\n"
     ]
    }
   ],
   "source": [
    "help(iteration_jeu)"
   ]
  },
  {
   "cell_type": "markdown",
   "metadata": {},
   "source": [
    "### Question 5 :\n",
    "Dans cette question on affichera les étapes du jeu de 0\n",
    "à 9 itérations pour la liste Z en utilisant une boucle for. On utilisera la fonction subplot de matplotlib pour\n",
    "afficher sur 2 lignes et 5 colonnes ces 10 matrices. On transformera ces listes en array\n",
    "pour pouvoir utiliser la fonction imshow de matplotlib.\n",
    "\n",
    "\n",
    "On importe les bibliothèques necessaires."
   ]
  },
  {
   "cell_type": "code",
   "execution_count": 117,
   "metadata": {},
   "outputs": [],
   "source": [
    "import numpy as np\n",
    "import matplotlib.pyplot as plt\n",
    "import math"
   ]
  },
  {
   "cell_type": "markdown",
   "metadata": {},
   "source": [
    "Nous réalisons maintenant la boucle pour afficher ces 10 états du jeu de la vie."
   ]
  },
  {
   "cell_type": "code",
   "execution_count": 118,
   "metadata": {},
   "outputs": [
    {
     "data": {
      "image/png": "[encoded data removed]",
      "text/plain": [
       "<Figure size 720x360 with 10 Axes>"
      ]
     },
     "metadata": {
      "needs_background": "light"
     },
     "output_type": "display_data"
    }
   ],
   "source": [
    "plt.figure(figsize=(10,5))\n",
    "Zbis = np.copy(Z)\n",
    "for i in range(10):\n",
    "    plt.subplot(2,5,i+1)\n",
    "    plt.imshow(np.array(Zbis))\n",
    "    Zbis = iteration_jeu(Zbis)"
   ]
  },
  {
   "cell_type": "markdown",
   "metadata": {},
   "source": [
    "### Question 6 : \n",
    "\n",
    "Tout d'abord, remarquons que l'image à l'itération 0 est la même que l'image à l'itération 4 à une translation près. Constatons également que l'image à l'itération 2 est identique, à une symétrie axiale près, à l'image de l'itération 0.\n",
    "De plus, l'image à l'itération 1, après une symétrie axiale et une rotation, correspond à l'image de l'itération 3. Ainsi, on observe que les cellules évoluent et permettent de créer de nouveaux états, cependant, comme dit précédemment, on retrouve certaines similitudes entre eux. On constatera également que, pour chaque état de 0 à 4, nous avons toujours 5 cellules vivantes.\n",
    "\n",
    "A partir de l'itération 7, le jeu est stable et ne bougera donc plus, en effet, chaque cellule possède 3 voisins."
   ]
  },
  {
   "cell_type": "markdown",
   "metadata": {},
   "source": [
    "##  Implémentation avec Numba"
   ]
  },
  {
   "cell_type": "markdown",
   "metadata": {},
   "source": [
    "### Question 7 :\n",
    "Reprenons la section précédente avec les fonctions utilisant numba et la compilation @jit.\n",
    "\n",
    "Importons, tout d'abord, la bibliothèque permettant d'utiliser les commandes dédiées aux calculs de temps."
   ]
  },
  {
   "cell_type": "code",
   "execution_count": 119,
   "metadata": {},
   "outputs": [],
   "source": [
    "import time"
   ]
  },
  {
   "cell_type": "markdown",
   "metadata": {},
   "source": [
    "Réalisons maintenant le protocole pour voir les différences de temps de calculs."
   ]
  },
  {
   "cell_type": "code",
   "execution_count": 120,
   "metadata": {},
   "outputs": [
    {
     "name": "stdout",
     "output_type": "stream",
     "text": [
      "Temps de calcul (avec compilation) = 0.8119215965270996\n",
      "Temps de calcul (sans compilation) = 0.0\n",
      "Temps de calcul (fonction de base) = 7.295608520507812e-05\n"
     ]
    }
   ],
   "source": [
    "# Avec compilation\n",
    "start = time.time()\n",
    "calcul_nb_voisins_fast(np.array(Z))\n",
    "end = time.time()\n",
    "print(\"Temps de calcul (avec compilation) = %s\" % (end - start))\n",
    "\n",
    "# Sans compilation\n",
    "start = time.time()\n",
    "calcul_nb_voisins_fast(np.array(Z))\n",
    "end = time.time()\n",
    "print(\"Temps de calcul (sans compilation) = %s\" % (end - start))\n",
    "\n",
    "# Fonction sans jit\n",
    "start = time.time()\n",
    "calcul_nb_voisins(Z)\n",
    "end = time.time()\n",
    "print(\"Temps de calcul (fonction de base) = %s\" % (end - start))"
   ]
  },
  {
   "cell_type": "code",
   "execution_count": 121,
   "metadata": {},
   "outputs": [
    {
     "name": "stdout",
     "output_type": "stream",
     "text": [
      "Temps de calcul (avec compilation) = 0.7326400279998779\n",
      "Temps de calcul (sans compilation) = 0.00010538101196289062\n",
      "Temps de calcul (fonction de base) = 0.0004024505615234375\n"
     ]
    }
   ],
   "source": [
    "# Avec compilation\n",
    "start = time.time()\n",
    "iteration_jeu_fast(np.array(Z))\n",
    "end = time.time()\n",
    "print(\"Temps de calcul (avec compilation) = %s\" % (end - start))\n",
    "\n",
    "# sans compilation\n",
    "start = time.time()\n",
    "iteration_jeu_fast(np.array(Z))\n",
    "end = time.time()\n",
    "print(\"Temps de calcul (sans compilation) = %s\" % (end - start))\n",
    "\n",
    "#Fonction sans jit\n",
    "start = time.time()\n",
    "iteration_jeu(np.array(Z))\n",
    "end = time.time()\n",
    "print(\"Temps de calcul (fonction de base) = %s\" % (end - start))"
   ]
  },
  {
   "cell_type": "markdown",
   "metadata": {},
   "source": [
    "Cette méthode sera peu précise, étant donné que les temps retournés dépendent beaucoup de paramètres extérieurs. En effet, nous ne faisons qu'un seul test et ne faisons donc pas une moyenne."
   ]
  },
  {
   "cell_type": "code",
   "execution_count": 122,
   "metadata": {},
   "outputs": [
    {
     "name": "stdout",
     "output_type": "stream",
     "text": [
      "16.3 µs ± 475 ns per loop (mean ± std. dev. of 7 runs, 100000 loops each)\n",
      "33 µs ± 1.17 µs per loop (mean ± std. dev. of 7 runs, 10000 loops each)\n",
      "16.4 µs ± 51.5 ns per loop (mean ± std. dev. of 7 runs, 100000 loops each)\n",
      "43.2 µs ± 315 ns per loop (mean ± std. dev. of 7 runs, 10000 loops each)\n"
     ]
    }
   ],
   "source": [
    "%timeit calcul_nb_voisins_fast(np.array(Z))\n",
    "%timeit calcul_nb_voisins(Z)\n",
    "\n",
    "%timeit iteration_jeu_fast(np.array(Z))\n",
    "%timeit iteration_jeu(Z)"
   ]
  },
  {
   "cell_type": "markdown",
   "metadata": {},
   "source": [
    "Cette méthode permet, quant à elle, de lancer plusieurs fois les fonctions et de donner une moyenne. Elle est donc plus précise que la précédente.\n",
    "\n",
    "On remarque que les méthodes utilisant la compilation @jit sont plus rapides que les méthodes normales. Ici, ces méthodes sont, environ, 2 fois plus rapides pour calcul_nb_voisins et 2.5 fois plus rapides pour itérations_jeu."
   ]
  },
  {
   "cell_type": "markdown",
   "metadata": {},
   "source": [
    "### Question 8 : \n",
    "Créons un widget dont le curseur permet de contrôler les itérations (par exemple de 0 à 30)\n",
    "du jeu de la vie.\n",
    "\n",
    "Tout d'abord, définissons la matrice Z_huge."
   ]
  },
  {
   "cell_type": "code",
   "execution_count": 123,
   "metadata": {},
   "outputs": [],
   "source": [
    "Z_huge = np.zeros((100, 100))\n",
    "Z_np = np.array(\n",
    "[[0, 0, 0, 0, 0, 0],\n",
    "[0, 0, 0, 1, 0, 0],\n",
    "[0, 1, 0, 1, 0, 0],\n",
    "[0, 0, 1, 1, 0, 0],\n",
    "[0, 0, 0, 0, 0, 0],\n",
    "[0, 0, 0, 0, 0, 0]])\n",
    "Z_huge[10:16, 10:16] = Z_np"
   ]
  },
  {
   "cell_type": "markdown",
   "metadata": {},
   "source": [
    "Importons, maintenant, la bibliothèque permettant de créer des widgets.\n",
    "\n",
    "Pour sa création nous avons du créer une fonction nommée \"itération\" et qui prend en argument un np.array ainsi qu'un nombre d'itération. Elle permet d'afficher l'évolution de notre \"carte\" avec un nombre d'itération choisi."
   ]
  },
  {
   "cell_type": "code",
   "execution_count": 124,
   "metadata": {},
   "outputs": [
    {
     "data": {
      "application/vnd.jupyter.widget-view+json": {
       "model_id": "6719c6d050294363b6810ee70e2bf763",
       "version_major": 2,
       "version_minor": 0
      },
      "text/plain": [
       "interactive(children=(IntSlider(value=15, description='nb_iter', max=30, min=1), Output()), _dom_classes=('wid…"
      ]
     },
     "metadata": {},
     "output_type": "display_data"
    }
   ],
   "source": [
    "from ipywidgets import interact, fixed\n",
    "\n",
    "interact(iteration, Z=fixed(Z_huge), nb_iter=(1, 30, 1));"
   ]
  },
  {
   "cell_type": "markdown",
   "metadata": {},
   "source": [
    "## Exercice 2"
   ]
  },
  {
   "cell_type": "markdown",
   "metadata": {},
   "source": [
    "### Question 1"
   ]
  },
  {
   "cell_type": "markdown",
   "metadata": {},
   "source": [
    "Commençons par importer notre jeu de données MNIST."
   ]
  },
  {
   "cell_type": "code",
   "execution_count": 125,
   "metadata": {},
   "outputs": [],
   "source": [
    "from sklearn.datasets import fetch_mldata\n",
    "from random import randint"
   ]
  },
  {
   "cell_type": "code",
   "execution_count": 126,
   "metadata": {
    "scrolled": true
   },
   "outputs": [
    {
     "name": "stderr",
     "output_type": "stream",
     "text": [
      "C:\\Users\\ariel\\Anaconda3\\lib\\site-packages\\sklearn\\utils\\deprecation.py:77: DeprecationWarning: Function fetch_mldata is deprecated; fetch_mldata was deprecated in version 0.20 and will be removed in version 0.22\n",
      "  warnings.warn(msg, category=DeprecationWarning)\n",
      "C:\\Users\\ariel\\Anaconda3\\lib\\site-packages\\sklearn\\utils\\deprecation.py:77: DeprecationWarning: Function mldata_filename is deprecated; mldata_filename was deprecated in version 0.20 and will be removed in version 0.22\n",
      "  warnings.warn(msg, category=DeprecationWarning)\n"
     ]
    }
   ],
   "source": [
    "mnist = fetch_mldata('MNIST original')\n",
    "X = mnist.data.astype('float64')\n",
    "y = mnist.target\n"
   ]
  },
  {
   "cell_type": "markdown",
   "metadata": {},
   "source": [
    "X est une matrice ayant pour éléments, des matrices codants chaque image.\n",
    "y est un vecteur ayant pour éléments le symbole de l'image correspondant en position.\n",
    "\n",
    "Exemple : si y[0]= 3 alors le premier élément dans la matrice X, c'est-à-dire, X[0,] est la matrice codant une image de 3."
   ]
  },
  {
   "cell_type": "markdown",
   "metadata": {},
   "source": [
    "### Question 2"
   ]
  },
  {
   "cell_type": "markdown",
   "metadata": {},
   "source": [
    "Nous créons une nouvelle matrice X37, ayant pour éléments les matrices des images 3 et 7, et le vecteur y37 composé\n",
    "seulement de 3 et de 7, le chiffre associé à l'image qu'il représente dans X37. Pour obtenir ces nouveaux objets, nous sommes passer par la méthode des masques.\n",
    "\n",
    "Pour visualiser ce que contient notre matrice X37, sortons aléatoirement des éléments de la matrice en image."
   ]
  },
  {
   "cell_type": "code",
   "execution_count": 127,
   "metadata": {},
   "outputs": [
    {
     "data": {
      "image/png": "[encoded data removed]",
      "text/plain": [
       "<Figure size 1728x720 with 10 Axes>"
      ]
     },
     "metadata": {
      "needs_background": "light"
     },
     "output_type": "display_data"
    }
   ],
   "source": [
    "mask1 = np.array(y==3)\n",
    "mask2 = np.array(y==7)\n",
    "mask = mask1+mask2  #somme terme à terme\n",
    "X37 = X[mask]\n",
    "y37 = y[mask]\n",
    "\n",
    "plt.figure(figsize=(24,10))\n",
    "for i in range(10):\n",
    "    plt.subplot(2,5,i+1)\n",
    "    plt.imshow((X37[randint(0,len(X37)-1)]).reshape(28,28))"
   ]
  },
  {
   "cell_type": "markdown",
   "metadata": {},
   "source": [
    "Pour visualiser, à partir de quel indice nous obtenons des 7 et non plus des 3, nous avons regarder la dimension de la matrice X avec le masque selectionnant les chiffes 3.\n"
   ]
  },
  {
   "cell_type": "code",
   "execution_count": 128,
   "metadata": {},
   "outputs": [
    {
     "data": {
      "text/plain": [
       "(7141, 784)"
      ]
     },
     "execution_count": 128,
     "metadata": {},
     "output_type": "execute_result"
    }
   ],
   "source": [
    "np.shape(X[mask1])"
   ]
  },
  {
   "cell_type": "markdown",
   "metadata": {},
   "source": [
    "Ainsi, nous voyons que les 7 commencent à partir de l'indice 7141."
   ]
  },
  {
   "cell_type": "markdown",
   "metadata": {},
   "source": [
    "### Question 3"
   ]
  },
  {
   "cell_type": "markdown",
   "metadata": {},
   "source": [
    "Procédons à une régression sur la matrice X37 et le vecteur y37, afin de faire des prédictions quant à leur classe. Grâce à cela, nous obtiendrons donc le vecteur des coefficients w."
   ]
  },
  {
   "cell_type": "code",
   "execution_count": 129,
   "metadata": {},
   "outputs": [],
   "source": [
    "from sklearn import linear_model\n",
    "\n",
    "skl_linmod = linear_model.LogisticRegression(fit_intercept=False)"
   ]
  },
  {
   "cell_type": "code",
   "execution_count": 130,
   "metadata": {},
   "outputs": [
    {
     "name": "stderr",
     "output_type": "stream",
     "text": [
      "C:\\Users\\ariel\\Anaconda3\\lib\\site-packages\\sklearn\\linear_model\\logistic.py:433: FutureWarning: Default solver will be changed to 'lbfgs' in 0.22. Specify a solver to silence this warning.\n",
      "  FutureWarning)\n"
     ]
    },
    {
     "data": {
      "text/plain": [
       "LogisticRegression(C=1.0, class_weight=None, dual=False, fit_intercept=False,\n",
       "          intercept_scaling=1, max_iter=100, multi_class='warn',\n",
       "          n_jobs=None, penalty='l2', random_state=None, solver='warn',\n",
       "          tol=0.0001, verbose=0, warm_start=False)"
      ]
     },
     "execution_count": 130,
     "metadata": {},
     "output_type": "execute_result"
    }
   ],
   "source": [
    "skl_linmod.fit(X37,y37)"
   ]
  },
  {
   "cell_type": "markdown",
   "metadata": {},
   "source": [
    "### Question 4"
   ]
  },
  {
   "cell_type": "markdown",
   "metadata": {},
   "source": [
    "A partir de la formule de modification de l'image, nous allons créer une widget, nous permettant de constater l'influence de notre paramètre alpha sur la modification de l'image. Pour cela, nous avons créé une fonction  fig_digit se trouvant dans le fichier python utils, nous permettant d'obtenir notre image modifiée par la formule donnée. Pour visualiser cela, nous prendrons une image associé au chiffre 7."
   ]
  },
  {
   "cell_type": "code",
   "execution_count": 131,
   "metadata": {
    "scrolled": true
   },
   "outputs": [
    {
     "data": {
      "application/vnd.jupyter.widget-view+json": {
       "model_id": "146fe34ea16c4e3ea728c89dc7cf4698",
       "version_major": 2,
       "version_minor": 0
      },
      "text/plain": [
       "interactive(children=(FloatSlider(value=150.0, description='alpha', max=300.0, min=0.1), Output()), _dom_class…"
      ]
     },
     "metadata": {},
     "output_type": "display_data"
    }
   ],
   "source": [
    "interact(fig_digit,  x=fixed(X37[8000]), w=fixed(skl_linmod.coef_.T), alpha=(0.1, 300, 0.1));"
   ]
  },
  {
   "cell_type": "code",
   "execution_count": 132,
   "metadata": {},
   "outputs": [
    {
     "name": "stdout",
     "output_type": "stream",
     "text": [
      "Help on function fig_digit in module __main__:\n",
      "\n",
      "fig_digit(x, w, alpha)\n",
      "    Cette fonction prend en argument une image sous forme de vecteur, un vecteur de coefficient de regréssion logistique et un réel alpha.\n",
      "    Cette fonction permet de voir la différence entre l'image originelle et l'image transformée, grâce la formule de transformation de\n",
      "    l'image donnée dans l'énoncé.\n",
      "    \n",
      "    Cette fonction affiche deux images côte à côte par un subplot, à gauche l'image originelle, elle calcule ensuite le vecteur de l'image\n",
      "    transformée. Enfin elle l'affiche à droite de l'image précédente.\n",
      "\n"
     ]
    }
   ],
   "source": [
    "help(fig_digit)"
   ]
  },
  {
   "cell_type": "markdown",
   "metadata": {},
   "source": [
    "### Question 5"
   ]
  },
  {
   "cell_type": "markdown",
   "metadata": {},
   "source": [
    "Dans cette question, nous allons créer un film nous montrant l'évolution de la modification de l'image lorsque l'on augmente alpha."
   ]
  },
  {
   "cell_type": "code",
   "execution_count": 133,
   "metadata": {},
   "outputs": [],
   "source": [
    "import matplotlib.animation as animation\n",
    "\n",
    "from matplotlib import rc\n",
    "from IPython.display import HTML"
   ]
  },
  {
   "cell_type": "code",
   "execution_count": 134,
   "metadata": {},
   "outputs": [
    {
     "data": {
      "image/png": "[encoded data removed]",
      "text/plain": [
       "<Figure size 432x288 with 1 Axes>"
      ]
     },
     "metadata": {
      "needs_background": "light"
     },
     "output_type": "display_data"
    }
   ],
   "source": [
    "w= skl_linmod.coef_.T\n",
    "x= X37[8000]\n",
    "\n",
    "fig = plt.figure()\n",
    "\n",
    "def fig_anim(x, w, i):\n",
    "    return((x.reshape(784,1)-i/np.linalg.norm(w)**2 * np.dot(w.T,x) * w).reshape(28,28))\n",
    "    \n",
    "im = plt.imshow(fig_anim(x,w,0).reshape(28,28), animated=True)\n",
    "\n",
    "def animate(alpha):\n",
    "    xmod = fig_anim(x,w,alpha)\n",
    "    im.set_array(xmod)\n",
    "    return im,\n",
    "\n",
    "anim = animation.FuncAnimation(fig, animate, frames=200, blit=True, interval= 0.1)\n",
    "\n",
    "anim.save('animation3.mp4', fps=30, extra_args=['-vcodec', 'libx264'])\n",
    "\n",
    "plt.show()"
   ]
  },
  {
   "cell_type": "code",
   "execution_count": 135,
   "metadata": {
    "scrolled": true
   },
   "outputs": [
    {
     "data": {
      "text/html": [
       "\n",
       "<div align=\"middle\">\n",
       "<video width=\"80%\" controls>\n",
       "      <source src=\"animation3.mp4\" type=\"video/mp4\">\n",
       "</video>\n",
       "</div>\n"
      ],
      "text/plain": [
       "<IPython.core.display.HTML object>"
      ]
     },
     "execution_count": 135,
     "metadata": {},
     "output_type": "execute_result"
    }
   ],
   "source": [
    "HTML(\"\"\"\n",
    "<div align=\"middle\">\n",
    "<video width=\"80%\" controls>\n",
    "      <source src=\"animation3.mp4\" type=\"video/mp4\">\n",
    "</video>\n",
    "</div>\n",
    "\"\"\")"
   ]
  },
  {
   "cell_type": "markdown",
   "metadata": {},
   "source": [
    "### Question 6\n",
    "\n",
    "On peut constater, dans notre formule, que $\\alpha$ est un cofficient devant le vecteur venant se soustraire au vecteur de l'image ($x$). Plus on modifie la valeur d'un élément (pixel) de x, plus la couleur du pixel change. Dans la formule, ormis le $\\alpha$ , rien d'autre ne peut varier ici. En effet, la norme de $w$ est un réel qui ne changera pas. On peut donc en déduire que le coefficient $\\alpha$ aura un impact sur la force du changement, c'est-à-dire plus alpha s'éloigne de 0, plus l'image est fortement modifiée. Plus $\\alpha$ est grand, plus la différence faite entre x et $\\frac{\\alpha w^{T}xw}{||w||^{2}}$ sera importante et donc l'image modifiée."
   ]
  },
  {
   "cell_type": "markdown",
   "metadata": {},
   "source": [
    "### Question 7\n",
    "\n",
    "Dans cette dernière question, nous ferons l'ACP sur le notre matrice X37."
   ]
  },
  {
   "cell_type": "code",
   "execution_count": 136,
   "metadata": {},
   "outputs": [
    {
     "name": "stdout",
     "output_type": "stream",
     "text": [
      "Module created for script run in IPython\n"
     ]
    },
    {
     "data": {
      "image/png": "[encoded data removed]",
      "text/plain": [
       "<Figure size 576x576 with 1 Axes>"
      ]
     },
     "metadata": {
      "needs_background": "light"
     },
     "output_type": "display_data"
    },
    {
     "data": {
      "image/png": "[encoded data removed]",
      "text/plain": [
       "<Figure size 576x576 with 1 Axes>"
      ]
     },
     "metadata": {
      "needs_background": "light"
     },
     "output_type": "display_data"
    }
   ],
   "source": [
    "print(__doc__)\n",
    "\n",
    "from sklearn.decomposition import PCA, IncrementalPCA\n",
    "\n",
    "n_components = 2\n",
    "ipca = IncrementalPCA(n_components=n_components, batch_size=10)\n",
    "X_ipca = ipca.fit_transform(X37)\n",
    "\n",
    "pca = PCA(n_components=n_components)\n",
    "X_pca = pca.fit_transform(X37)\n",
    "\n",
    "colors = ['navy', 'turquoise']\n",
    "label = np.array(['3', '7'], dtype='<U10')\n",
    "\n",
    "for X_transformed, title in [(X_ipca, \"Incremental PCA\"), (X_pca, \"PCA\")]:\n",
    "    plt.figure(figsize=(8, 8))\n",
    "    for color, i, target_name in zip(colors, [3, 7], label):\n",
    "        plt.scatter(X_transformed[y37 == i, 0], X_transformed[y37 == i, 1], color=color, lw=2, label=target_name)\n",
    "\n",
    "    if \"Incremental\" in title:\n",
    "        err = np.abs(np.abs(X_pca) - np.abs(X_ipca)).mean()\n",
    "        plt.title(title + \" of MNIST \\nMean absolute unsigned error \" \"%.6f\" % err)\n",
    "    else:\n",
    "        plt.title(title + \" of MNIST dataset\")\n",
    "    plt.legend(loc=\"best\", shadow=False, scatterpoints=1)\n",
    "    plt.axis([-2000, 2000, -2000, 2000])\n",
    "\n",
    "plt.show()"
   ]
  },
  {
   "cell_type": "markdown",
   "metadata": {},
   "source": [
    "D'après les résultats de cette ACP, on observe qu'il y a deux classes distinctes. Ces deux classes correspondent aux chiffres 3 et 7.\n"
   ]
  }
 ],
 "metadata": {
  "kernelspec": {
   "display_name": "Python 3",
   "language": "python",
   "name": "python3"
  },
  "language_info": {
   "codemirror_mode": {
    "name": "ipython",
    "version": 3
   },
   "file_extension": ".py",
   "mimetype": "text/x-python",
   "name": "python",
   "nbconvert_exporter": "python",
   "pygments_lexer": "ipython3",
   "version": "3.7.3"
  }
 },
 "nbformat": 4,
 "nbformat_minor": 2
}
