{
 "cells": [
  {
   "cell_type": "markdown",
   "metadata": {},
   "source": [
    "# Développement logiciel\n",
    "#     Travaux Patriques Python  \n",
    "###                                                               Mathilde Cadon & Arielle Gantelet\n"
   ]
  },
  {
   "cell_type": "markdown",
   "metadata": {},
   "source": [
    "Avant toutes choses, nous devons importer le fichier $utils.py$ qui contient toutes nos fonctions ainsi que les bibliothèques utiles à leurs appels."
   ]
  },
  {
   "cell_type": "code",
   "execution_count": 20,
   "metadata": {},
   "outputs": [],
   "source": [
    "run ./utils.py"
   ]
  },
  {
   "cell_type": "markdown",
   "metadata": {},
   "source": [
    "## Implémentation sans numpy\n",
    "\n",
    "\n",
    "### Question 4 :\n",
    " Appliquons la fonction calcul_nb_voisins(Z) à la liste (de liste) Z, et expliquons ce qu'on obtient\n",
    "sur cette sortie. Rappelons que cette fonction, et toutes les fonctions définies dans la\n",
    "suite seront placées dans le fichier $utils.py$ que l'on vient d'appeller. "
   ]
  },
  {
   "cell_type": "code",
   "execution_count": 21,
   "metadata": {},
   "outputs": [
    {
     "data": {
      "text/plain": [
       "[[0, 0, 0, 0, 0, 0],\n",
       " [0, 0, 0, 1, 0, 0],\n",
       " [0, 1, 0, 1, 0, 0],\n",
       " [0, 0, 1, 1, 0, 0],\n",
       " [0, 0, 0, 0, 0, 0],\n",
       " [0, 0, 0, 0, 0, 0]]"
      ]
     },
     "execution_count": 21,
     "metadata": {},
     "output_type": "execute_result"
    }
   ],
   "source": [
    "Z = [[0,0,0,0,0,0],\n",
    "[0,0,0,1,0,0],\n",
    "[0,1,0,1,0,0],\n",
    "[0,0,1,1,0,0],\n",
    "[0,0,0,0,0,0],\n",
    "[0,0,0,0,0,0]]\n",
    "\n",
    "Z"
   ]
  },
  {
   "cell_type": "markdown",
   "metadata": {},
   "source": [
    "Cette matrice représente une \"carte\" de cellule qui comporte des cellules mortes (codées par un 0) sur ses frontières,\n",
    "puis des cellules vivantes (codées par un 1) ou morte à l'intérieur."
   ]
  },
  {
   "cell_type": "code",
   "execution_count": 22,
   "metadata": {
    "scrolled": true
   },
   "outputs": [
    {
     "data": {
      "text/plain": [
       "[[0, 0, 0, 0, 0, 0],\n",
       " [0, 1, 3, 1, 2, 0],\n",
       " [0, 1, 5, 3, 3, 0],\n",
       " [0, 2, 3, 2, 2, 0],\n",
       " [0, 1, 2, 2, 1, 0],\n",
       " [0, 0, 0, 0, 0, 0]]"
      ]
     },
     "execution_count": 22,
     "metadata": {},
     "output_type": "execute_result"
    }
   ],
   "source": [
    "calcul_nb_voisins(Z)"
   ]
  },
  {
   "cell_type": "markdown",
   "metadata": {},
   "source": [
    "La fonction \"calcul_nb_voisins\" permet de prendre en argument un état du jeu de la vie. \n",
    "Cette fonction calcule ensuite, pour chaque cellule n'étant pas aux frontières, le nombre de cellules vivantes qui sont dans son entourage (les 8 cases autour d'elle). \n",
    "Elle renvoie donc une liste de liste contenant, non plus des 0 ou des 1 pour dire que la cellule est morte ou vivante, mais le nombre de cellules qui sont présentes autour d'elle. Cette \"carte\" conservera donc sa frontière de 0 car les calculs se font sur les cellules n'étant pas sur la frontière.\n",
    "\n",
    "\n",
    "Passons maintenant à la fonction \"itération_jeu\"."
   ]
  },
  {
   "cell_type": "code",
   "execution_count": 23,
   "metadata": {},
   "outputs": [
    {
     "name": "stdout",
     "output_type": "stream",
     "text": [
      "Help on function iteration_jeu in module __main__:\n",
      "\n",
      "iteration_jeu(Z)\n",
      "    Fonction qui prend en argument l'état initial du jeu de la vie (sous forme de liste de liste).\n",
      "    Fonction qui retourne l'état du jeu après 1 itération.\n",
      "    \n",
      "    La fonction fait appel à la fonction qui calcule le nombre de voisins puis modifie\n",
      "    les cellules, qui sont représentées par des 0 ou des 1 dans la matrice Z,\n",
      "    en appliquant la règle de décision expliquée dans l'énoncée.\n",
      "    \n",
      "    - Si la cellule est vivante et qu'elle a moins de 2 voisins ou plus de 3 voisins, alors elle meurt.\n",
      "    - Si la cellule est morte et qu'elle à 3 voisins alors elle vit.\n",
      "    Dans tous les autres cas, la cellule reste dans le même état.\n",
      "\n"
     ]
    }
   ],
   "source": [
    "help(iteration_jeu)"
   ]
  },
  {
   "cell_type": "markdown",
   "metadata": {},
   "source": [
    "### Question 5 :\n",
    "Dans cette question nous afficherons les étapes du jeu de 0 à 9 itérations pour la liste Z, en utilisant une boucle for. Comme demandé, nous utiliserons la fonction subplot de matplotlib pour afficher sur 2 lignes et 5 colonnes ces 10 matrices. \n",
    "\n",
    "De plus, on devra transformer ces listes en array pour pouvoir utiliser la fonction imshow de matplotlib.\n",
    "\n",
    "\n",
    "On importe les bibliothèques necessaires."
   ]
  },
  {
   "cell_type": "code",
   "execution_count": 24,
   "metadata": {},
   "outputs": [],
   "source": [
    "import numpy as np\n",
    "import matplotlib.pyplot as plt\n",
    "import math"
   ]
  },
  {
   "cell_type": "markdown",
   "metadata": {},
   "source": [
    "Nous réalisons maintenant la boucle pour afficher ces 10 états du jeu de la vie."
   ]
  },
  {
   "cell_type": "code",
   "execution_count": 25,
   "metadata": {},
   "outputs": [
    {
     "data": {
      "image/png": "[encoded data removed]",
      "text/plain": [
       "<Figure size 720x360 with 10 Axes>"
      ]
     },
     "metadata": {
      "needs_background": "light"
     },
     "output_type": "display_data"
    }
   ],
   "source": [
    "plt.figure(figsize=(10,5))\n",
    "Zbis = np.copy(Z)\n",
    "for i in range(10):\n",
    "    plt.subplot(2,5,i+1)\n",
    "    plt.imshow(np.array(Zbis))\n",
    "    Zbis = iteration_jeu(Zbis)\n",
    "    plt.title(\"Itération n°\"+str(i))"
   ]
  },
  {
   "cell_type": "markdown",
   "metadata": {},
   "source": [
    "Entre l'itération 0 et 4 on observe que les cellules évoluent et que l'on a un nouvel état à chaque itération.\n",
    "Lors de l'étape 4 on se retrouve dans le même état que l'étape 0 mais en étant décalé de 1 vers le bas droite. \n",
    "\n",
    "A partir de l'itération 7, le jeu est stable et ne bougera donc plus."
   ]
  },
  {
   "cell_type": "markdown",
   "metadata": {},
   "source": [
    "##  Implémentation avec Numba"
   ]
  },
  {
   "cell_type": "code",
   "execution_count": 26,
   "metadata": {},
   "outputs": [],
   "source": [
    "import time"
   ]
  },
  {
   "cell_type": "markdown",
   "metadata": {},
   "source": [
    "#Attention probleme avec le jit comme c'est un languageproche de C il n'aime pas les liste de liste, il faut donc appeler\n",
    "    la fonction avec np.array pour que cela fonctionne..."
   ]
  },
  {
   "cell_type": "code",
   "execution_count": 27,
   "metadata": {},
   "outputs": [
    {
     "name": "stdout",
     "output_type": "stream",
     "text": [
      "Elapsed (with compilation) = 0.620337724685669\n",
      "Elapsed (after compilation) = 0.0\n",
      "Elapsed (vanilla) = 0.0\n"
     ]
    }
   ],
   "source": [
    "# COMPILATION INCLUSE!\n",
    "start = time.time()\n",
    "calcul_nb_voisins_fast(np.array(Z))\n",
    "end = time.time()\n",
    "print(\"Elapsed (with compilation) = %s\" % (end - start))\n",
    "\n",
    "# COMPILATION NON INCLUSE, EXECUTER DEPUIS LE CACHE\n",
    "start = time.time()\n",
    "calcul_nb_voisins_fast(np.array(Z))\n",
    "end = time.time()\n",
    "print(\"Elapsed (after compilation) = %s\" % (end - start))\n",
    "\n",
    "# VANILLA PYTHON\n",
    "start = time.time()\n",
    "calcul_nb_voisins(Z)\n",
    "end = time.time()\n",
    "print(\"Elapsed (vanilla) = %s\" % (end - start))"
   ]
  },
  {
   "cell_type": "code",
   "execution_count": 28,
   "metadata": {},
   "outputs": [
    {
     "name": "stdout",
     "output_type": "stream",
     "text": [
      "Elapsed (with compilation) = 0.39583563804626465\n",
      "Elapsed (after compilation) = 0.0\n",
      "Elapsed (vanilla) = 0.0\n"
     ]
    }
   ],
   "source": [
    "# COMPILATION INCLUSE!\n",
    "start = time.time()\n",
    "iteration_jeu_fast(np.array(Z))\n",
    "end = time.time()\n",
    "print(\"Elapsed (with compilation) = %s\" % (end - start))\n",
    "\n",
    "# COMPILATION NON INCLUSE, EXECUTER DEPUIS LE CACHE\n",
    "start = time.time()\n",
    "iteration_jeu_fast(np.array(Z))\n",
    "end = time.time()\n",
    "print(\"Elapsed (after compilation) = %s\" % (end - start))\n",
    "\n",
    "# VANILLA PYTHON\n",
    "start = time.time()\n",
    "iteration_jeu(np.array(Z))\n",
    "end = time.time()\n",
    "print(\"Elapsed (vanilla) = %s\" % (end - start))"
   ]
  },
  {
   "cell_type": "code",
   "execution_count": 29,
   "metadata": {},
   "outputs": [],
   "source": [
    "Z_huge = np.zeros((100, 100))\n",
    "Z_np = np.array(\n",
    "[[0, 0, 0, 0, 0, 0],\n",
    "[0, 0, 0, 1, 0, 0],\n",
    "[0, 1, 0, 1, 0, 0],\n",
    "[0, 0, 1, 1, 0, 0],\n",
    "[0, 0, 0, 0, 0, 0],\n",
    "[0, 0, 0, 0, 0, 0]])\n",
    "Z_huge[10:16, 10:16] = Z_np"
   ]
  },
  {
   "cell_type": "code",
   "execution_count": 30,
   "metadata": {},
   "outputs": [
    {
     "data": {
      "application/vnd.jupyter.widget-view+json": {
       "model_id": "4000ed9c42c847df8f4777b7ffdb072f",
       "version_major": 2,
       "version_minor": 0
      },
      "text/plain": [
       "interactive(children=(IntSlider(value=15, description='nb_iter', max=30, min=1), Output()), _dom_classes=('wid…"
      ]
     },
     "metadata": {},
     "output_type": "display_data"
    }
   ],
   "source": [
    "from ipywidgets import interact, fixed\n",
    "\n",
    "interact(iteration, Z=fixed(Z_huge), nb_iter=(1, 30, 1));"
   ]
  },
  {
   "cell_type": "markdown",
   "metadata": {},
   "source": [
    "## Exercice 2"
   ]
  },
  {
   "cell_type": "code",
   "execution_count": 31,
   "metadata": {},
   "outputs": [],
   "source": [
    "from sklearn.datasets import fetch_mldata\n",
    "from random import randint"
   ]
  },
  {
   "cell_type": "code",
   "execution_count": 32,
   "metadata": {
    "scrolled": true
   },
   "outputs": [
    {
     "name": "stderr",
     "output_type": "stream",
     "text": [
      "C:\\Users\\Mathilde\\Anaconda3\\lib\\site-packages\\sklearn\\utils\\deprecation.py:77: DeprecationWarning: Function fetch_mldata is deprecated; fetch_mldata was deprecated in version 0.20 and will be removed in version 0.22\n",
      "  warnings.warn(msg, category=DeprecationWarning)\n",
      "C:\\Users\\Mathilde\\Anaconda3\\lib\\site-packages\\sklearn\\utils\\deprecation.py:77: DeprecationWarning: Function mldata_filename is deprecated; mldata_filename was deprecated in version 0.20 and will be removed in version 0.22\n",
      "  warnings.warn(msg, category=DeprecationWarning)\n"
     ]
    }
   ],
   "source": [
    "mnist = fetch_mldata('MNIST original')\n",
    "X = mnist.data.astype('float64')\n",
    "y = mnist.target\n"
   ]
  },
  {
   "cell_type": "code",
   "execution_count": 33,
   "metadata": {},
   "outputs": [
    {
     "data": {
      "image/png": "[encoded data removed]",
      "text/plain": [
       "<Figure size 1728x720 with 10 Axes>"
      ]
     },
     "metadata": {
      "needs_background": "light"
     },
     "output_type": "display_data"
    }
   ],
   "source": [
    "mask1 = np.array(y==3)\n",
    "mask2 = np.array(y==7)\n",
    "mask = mask1+mask2  #somme terme à terme\n",
    "X37 = X[mask]\n",
    "y37 = y[mask]\n",
    "\n",
    "plt.figure(figsize=(24,10))\n",
    "for i in range(10):\n",
    "    plt.subplot(2,5,i+1)\n",
    "    plt.imshow((X37[randint(0,len(X37)-1)]).reshape(28,28))"
   ]
  },
  {
   "cell_type": "code",
   "execution_count": 34,
   "metadata": {},
   "outputs": [
    {
     "data": {
      "text/plain": [
       "(7141, 784)"
      ]
     },
     "execution_count": 34,
     "metadata": {},
     "output_type": "execute_result"
    }
   ],
   "source": [
    "np.shape(X[mask1])"
   ]
  },
  {
   "cell_type": "code",
   "execution_count": null,
   "metadata": {},
   "outputs": [
    {
     "data": {
      "text/plain": [
       "<matplotlib.image.AxesImage at 0x12a9b6a1be0>"
      ]
     },
     "execution_count": 35,
     "metadata": {},
     "output_type": "execute_result"
    },
    {
     "data": {
      "image/png": "[encoded data removed]",
      "text/plain": [
       "<Figure size 432x288 with 1 Axes>"
      ]
     },
     "metadata": {
      "needs_background": "light"
     },
     "output_type": "display_data"
    }
   ],
   "source": [
    "plt.imshow((X37[7141]).reshape(28,28))"
   ]
  },
  {
   "cell_type": "code",
   "execution_count": null,
   "metadata": {},
   "outputs": [],
   "source": [
    "from sklearn import linear_model\n",
    "\n",
    "skl_linmod = linear_model.LogisticRegression(fit_intercept=False)"
   ]
  },
  {
   "cell_type": "code",
   "execution_count": null,
   "metadata": {},
   "outputs": [
    {
     "name": "stderr",
     "output_type": "stream",
     "text": [
      "C:\\Users\\Mathilde\\Anaconda3\\lib\\site-packages\\sklearn\\linear_model\\logistic.py:433: FutureWarning: Default solver will be changed to 'lbfgs' in 0.22. Specify a solver to silence this warning.\n",
      "  FutureWarning)\n"
     ]
    },
    {
     "data": {
      "text/plain": [
       "LogisticRegression(C=1.0, class_weight=None, dual=False, fit_intercept=False,\n",
       "          intercept_scaling=1, max_iter=100, multi_class='warn',\n",
       "          n_jobs=None, penalty='l2', random_state=None, solver='warn',\n",
       "          tol=0.0001, verbose=0, warm_start=False)"
      ]
     },
     "execution_count": 37,
     "metadata": {},
     "output_type": "execute_result"
    }
   ],
   "source": [
    "skl_linmod.fit(X37,y37)"
   ]
  },
  {
   "cell_type": "code",
   "execution_count": null,
   "metadata": {
    "scrolled": true
   },
   "outputs": [
    {
     "data": {
      "application/vnd.jupyter.widget-view+json": {
       "model_id": "f42daa0d57fb43ae8de91aa8c80ebfdf",
       "version_major": 2,
       "version_minor": 0
      },
      "text/plain": [
       "interactive(children=(FloatSlider(value=150.0, description='alpha', max=300.0, min=0.1), Output()), _dom_class…"
      ]
     },
     "metadata": {},
     "output_type": "display_data"
    }
   ],
   "source": [
    "interact(fig_digit,  x=fixed(X37[8000]), w=fixed(skl_linmod.coef_.T), alpha=(0.1, 300, 0.1));"
   ]
  },
  {
   "cell_type": "code",
   "execution_count": null,
   "metadata": {},
   "outputs": [],
   "source": [
    "import matplotlib.animation as animation\n",
    "\n",
    "from matplotlib import rc\n",
    "from IPython.display import HTML"
   ]
  },
  {
   "cell_type": "code",
   "execution_count": null,
   "metadata": {},
   "outputs": [],
   "source": [
    "w= skl_linmod.coef_.T\n",
    "x= X37[8000]\n",
    "\n",
    "fig = plt.figure()\n",
    "\n",
    "def fig_anim(x, w, i):\n",
    "    return((x.reshape(784,1)-i/np.linalg.norm(w)**2 * np.dot(w.T,x) * w).reshape(28,28))\n",
    "    \n",
    "im = plt.imshow(fig_anim(x,w,0).reshape(28,28), animated=True)\n",
    "\n",
    "def animate(alpha):\n",
    "    xmod = fig_anim(x,w,alpha)\n",
    "    im.set_array(xmod)\n",
    "    return im,\n",
    "\n",
    "anim = animation.FuncAnimation(fig, animate, frames=200, blit=True, interval= 0.1)\n",
    "\n",
    "anim.save('animation3.mp4', fps=30, extra_args=['-vcodec', 'libx264'])\n",
    "\n",
    "plt.show()"
   ]
  },
  {
   "cell_type": "code",
   "execution_count": null,
   "metadata": {
    "scrolled": true
   },
   "outputs": [],
   "source": [
    "HTML(\"\"\"\n",
    "<div align=\"middle\">\n",
    "<video width=\"80%\" controls>\n",
    "      <source src=\"animation3.mp4\" type=\"video/mp4\">\n",
    "</video>\n",
    "</div>\n",
    "\"\"\")"
   ]
  },
  {
   "cell_type": "code",
   "execution_count": null,
   "metadata": {},
   "outputs": [],
   "source": [
    "print(__doc__)\n",
    "\n",
    "from sklearn.decomposition import PCA, IncrementalPCA\n",
    "\n",
    "n_components = 2\n",
    "ipca = IncrementalPCA(n_components=n_components, batch_size=10)\n",
    "X_ipca = ipca.fit_transform(X37)\n",
    "\n",
    "pca = PCA(n_components=n_components)\n",
    "X_pca = pca.fit_transform(X37)\n",
    "\n",
    "colors = ['navy', 'turquoise']\n",
    "label = np.array(['3', '7'], dtype='<U10')\n",
    "\n",
    "for X_transformed, title in [(X_ipca, \"Incremental PCA\"), (X_pca, \"PCA\")]:\n",
    "    plt.figure(figsize=(8, 8))\n",
    "    for color, i, target_name in zip(colors, [3, 7], label):\n",
    "        plt.scatter(X_transformed[y37 == i, 0], X_transformed[y37 == i, 1], color=color, lw=2, label=target_name)\n",
    "\n",
    "    if \"Incremental\" in title:\n",
    "        err = np.abs(np.abs(X_pca) - np.abs(X_ipca)).mean()\n",
    "        plt.title(title + \" of MNIST \\nMean absolute unsigned error \" \"%.6f\" % err)\n",
    "    else:\n",
    "        plt.title(title + \" of MNIST dataset\")\n",
    "    plt.legend(loc=\"best\", shadow=False, scatterpoints=1)\n",
    "    plt.axis([-2000, 2000, -2000, 2000])\n",
    "\n",
    "plt.show()"
   ]
  }
 ],
 "metadata": {
  "kernelspec": {
   "display_name": "Python 3",
   "language": "python",
   "name": "python3"
  },
  "language_info": {
   "codemirror_mode": {
    "name": "ipython",
    "version": 3
   },
   "file_extension": ".py",
   "mimetype": "text/x-python",
   "name": "python",
   "nbconvert_exporter": "python",
   "pygments_lexer": "ipython3",
   "version": "3.7.3"
  }
 },
 "nbformat": 4,
 "nbformat_minor": 2
}
